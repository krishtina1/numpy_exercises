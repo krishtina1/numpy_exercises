{
 "cells": [
  {
   "cell_type": "code",
   "execution_count": 1,
   "id": "0c080d70-ee62-4e7a-8b9b-ceffddd8f90b",
   "metadata": {},
   "outputs": [],
   "source": [
    "# Import NumPy as its abbreviation 'np'\n",
    "import numpy as np"
   ]
  },
  {
   "cell_type": "code",
   "execution_count": 9,
   "id": "68a8613d-b632-48b6-89e2-8c7f1dceac4c",
   "metadata": {},
   "outputs": [],
   "source": [
    "# Create a 1-dimensional NumPy array using np.array()\n",
    "a1 = np.array([1,2,3])\n",
    "\n",
    "# Create a 2-dimensional NumPy array using np.array()\n",
    "a2 = np.array([[1,2,3],[4,5,6]])\n",
    "\n",
    "# Create a 3-dimensional Numpy array using np.array()\n",
    "a3 = np.array([[[1,2],[3,4]],[[5,6],[7,8]]])"
   ]
  },
  {
   "cell_type": "markdown",
   "id": "5bdf0312-76d7-4004-8bd9-f4a63750830b",
   "metadata": {},
   "source": [
    "Now we've you've created 3 different arrays, let's find details about them.\n",
    "\n",
    "Find the shape, number of dimensions, data type, size and type of each array."
   ]
  },
  {
   "cell_type": "code",
   "execution_count": 6,
   "id": "21253633-59be-41b0-bf3b-395aef7fbfe7",
   "metadata": {},
   "outputs": [
    {
     "data": {
      "text/plain": [
       "((3,), 1, dtype('int32'), 3, numpy.ndarray)"
      ]
     },
     "execution_count": 6,
     "metadata": {},
     "output_type": "execute_result"
    }
   ],
   "source": [
    "# Attributes of 1-dimensional array \n",
    "a1.shape, a1.ndim, a1.dtype, a1.size, type(a1)"
   ]
  },
  {
   "cell_type": "code",
   "execution_count": 10,
   "id": "e742d621-31ae-411a-a4a8-173d25cef798",
   "metadata": {},
   "outputs": [
    {
     "data": {
      "text/plain": [
       "((2, 3), 2, dtype('int32'), 6, numpy.ndarray)"
      ]
     },
     "execution_count": 10,
     "metadata": {},
     "output_type": "execute_result"
    }
   ],
   "source": [
    "# Attributes of 2-dimensional array \n",
    "a2.shape, a2.ndim, a2.dtype, a2.size, type(a2)"
   ]
  },
  {
   "cell_type": "code",
   "execution_count": 11,
   "id": "b1f64964-7695-428b-8108-cfa7797af22f",
   "metadata": {},
   "outputs": [
    {
     "data": {
      "text/plain": [
       "((2, 2, 2), 3, dtype('int32'), 8, numpy.ndarray)"
      ]
     },
     "execution_count": 11,
     "metadata": {},
     "output_type": "execute_result"
    }
   ],
   "source": [
    "# Attributes of 3-dimensional array \n",
    "a3.shape, a3.ndim, a3.dtype, a3.size, type(a3)"
   ]
  },
  {
   "cell_type": "code",
   "execution_count": 19,
   "id": "76cf0f3a-e94e-45a4-850e-20353415a7f5",
   "metadata": {},
   "outputs": [
    {
     "data": {
      "text/html": [
       "<div>\n",
       "<style scoped>\n",
       "    .dataframe tbody tr th:only-of-type {\n",
       "        vertical-align: middle;\n",
       "    }\n",
       "\n",
       "    .dataframe tbody tr th {\n",
       "        vertical-align: top;\n",
       "    }\n",
       "\n",
       "    .dataframe thead th {\n",
       "        text-align: right;\n",
       "    }\n",
       "</style>\n",
       "<table border=\"1\" class=\"dataframe\">\n",
       "  <thead>\n",
       "    <tr style=\"text-align: right;\">\n",
       "      <th></th>\n",
       "      <th>A</th>\n",
       "      <th>B</th>\n",
       "      <th>C</th>\n",
       "    </tr>\n",
       "  </thead>\n",
       "  <tbody>\n",
       "    <tr>\n",
       "      <th>0</th>\n",
       "      <td>1</td>\n",
       "      <td>2</td>\n",
       "      <td>3</td>\n",
       "    </tr>\n",
       "    <tr>\n",
       "      <th>1</th>\n",
       "      <td>4</td>\n",
       "      <td>5</td>\n",
       "      <td>6</td>\n",
       "    </tr>\n",
       "  </tbody>\n",
       "</table>\n",
       "</div>"
      ],
      "text/plain": [
       "   A  B  C\n",
       "0  1  2  3\n",
       "1  4  5  6"
      ]
     },
     "execution_count": 19,
     "metadata": {},
     "output_type": "execute_result"
    }
   ],
   "source": [
    "# Import pandas and create a DataFrame out of one of the arrays you've created\n",
    "import pandas as pd\n",
    "df = pd.DataFrame(a2, columns=[\"A\",\"B\",\"C\"])\n",
    "df"
   ]
  },
  {
   "cell_type": "code",
   "execution_count": 14,
   "id": "c6198405-7c3d-4fe4-8190-6f1682fd36b1",
   "metadata": {},
   "outputs": [
    {
     "data": {
      "text/plain": [
       "array([[1., 1.],\n",
       "       [1., 1.],\n",
       "       [1., 1.],\n",
       "       [1., 1.],\n",
       "       [1., 1.],\n",
       "       [1., 1.],\n",
       "       [1., 1.],\n",
       "       [1., 1.],\n",
       "       [1., 1.],\n",
       "       [1., 1.]])"
      ]
     },
     "execution_count": 14,
     "metadata": {},
     "output_type": "execute_result"
    }
   ],
   "source": [
    "# Create an array of shape (10, 2) with only ones\n",
    "array_ones = np.ones((10,2))\n",
    "array_ones"
   ]
  },
  {
   "cell_type": "code",
   "execution_count": 20,
   "id": "5ffc183d-afe0-4c1f-a056-212041942abb",
   "metadata": {},
   "outputs": [
    {
     "data": {
      "text/plain": [
       "array([[[0., 0., 0.],\n",
       "        [0., 0., 0.]],\n",
       "\n",
       "       [[0., 0., 0.],\n",
       "        [0., 0., 0.]],\n",
       "\n",
       "       [[0., 0., 0.],\n",
       "        [0., 0., 0.]],\n",
       "\n",
       "       [[0., 0., 0.],\n",
       "        [0., 0., 0.]],\n",
       "\n",
       "       [[0., 0., 0.],\n",
       "        [0., 0., 0.]],\n",
       "\n",
       "       [[0., 0., 0.],\n",
       "        [0., 0., 0.]],\n",
       "\n",
       "       [[0., 0., 0.],\n",
       "        [0., 0., 0.]]])"
      ]
     },
     "execution_count": 20,
     "metadata": {},
     "output_type": "execute_result"
    }
   ],
   "source": [
    "# Create an array of shape (7, 2, 3) of only zeros\n",
    "array_zeros = np.zeros((7,2,3))\n",
    "array_zeros"
   ]
  },
  {
   "cell_type": "code",
   "execution_count": 22,
   "id": "30fd3fe9-c6ec-4a6f-a4a1-76829568ebfa",
   "metadata": {},
   "outputs": [
    {
     "data": {
      "text/plain": [
       "array([ 1,  4,  7, 10, 13, 16, 19, 22, 25, 28, 31, 34, 37, 40, 43, 46, 49,\n",
       "       52, 55, 58, 61, 64, 67, 70, 73, 76, 79, 82, 85, 88, 91, 94, 97])"
      ]
     },
     "execution_count": 22,
     "metadata": {},
     "output_type": "execute_result"
    }
   ],
   "source": [
    "# Create an array within a range of 0 and 100 with step 3\n",
    "array_range = np.arange(1,100,3)\n",
    "array_range"
   ]
  },
  {
   "cell_type": "code",
   "execution_count": 23,
   "id": "725176f9-434c-467b-b691-70c9b136fc74",
   "metadata": {},
   "outputs": [
    {
     "data": {
      "text/plain": [
       "array([[5, 2],\n",
       "       [7, 1],\n",
       "       [9, 6],\n",
       "       [2, 1],\n",
       "       [7, 1],\n",
       "       [5, 7],\n",
       "       [4, 9]])"
      ]
     },
     "execution_count": 23,
     "metadata": {},
     "output_type": "execute_result"
    }
   ],
   "source": [
    "# Create a random array with numbers between 0 and 10 of size (7, 2)\n",
    "random_array = np.random.randint(1,10,size=(7,2))\n",
    "random_array"
   ]
  },
  {
   "cell_type": "code",
   "execution_count": 24,
   "id": "bf8d1a39-3b57-42eb-bc49-b591a89070f1",
   "metadata": {},
   "outputs": [
    {
     "data": {
      "text/plain": [
       "array([[0.18093139, 0.02476778, 0.73814517, 0.26023063, 0.30185495],\n",
       "       [0.98026911, 0.67218252, 0.46024391, 0.07935539, 0.67473741],\n",
       "       [0.21043571, 0.57137467, 0.181455  , 0.45698941, 0.15667346]])"
      ]
     },
     "execution_count": 24,
     "metadata": {},
     "output_type": "execute_result"
    }
   ],
   "source": [
    "# Create a random array of floats between 0 & 1 of shape (3, 5)\n",
    "random_array = np.random.rand(3,5)\n",
    "random_array"
   ]
  },
  {
   "cell_type": "code",
   "execution_count": 34,
   "id": "d43295c1-4170-48e8-9eb2-e9bfeb8f7275",
   "metadata": {},
   "outputs": [
    {
     "data": {
      "text/plain": [
       "array([[7, 4, 8, 5, 7, 3],\n",
       "       [7, 8, 5, 4, 8, 8],\n",
       "       [3, 6, 5, 2, 8, 6],\n",
       "       [2, 5, 1, 6, 9, 1]])"
      ]
     },
     "execution_count": 34,
     "metadata": {},
     "output_type": "execute_result"
    }
   ],
   "source": [
    "# Set the random seed to 42\n",
    "np.random.seed(42)\n",
    "\n",
    "# Create a random array of numbers between 0 & 10 of size (4, 6)\n",
    "random_array = np.random.randint(1,10,size=(4,6))\n",
    "random_array"
   ]
  },
  {
   "cell_type": "markdown",
   "id": "056ce09f-f916-4c75-8248-d0363c32d5fb",
   "metadata": {},
   "source": [
    "Run the cell above again, what happens?\n",
    "\n",
    "Are the numbers in the array different or the same? Why do think this is?"
   ]
  },
  {
   "cell_type": "code",
   "execution_count": 35,
   "id": "fcb0cc01-cb7b-47f5-8a43-cfa72147ca6f",
   "metadata": {},
   "outputs": [
    {
     "data": {
      "text/plain": [
       "array([[3, 7, 4, 9, 3, 5, 3],\n",
       "       [7, 5, 9, 7, 2, 4, 9],\n",
       "       [2, 9, 5, 2, 4, 7, 8]])"
      ]
     },
     "execution_count": 35,
     "metadata": {},
     "output_type": "execute_result"
    }
   ],
   "source": [
    "# Create an array of random numbers between 1 & 10 of size (3, 7) and save it to a variable\n",
    "random_array = np.random.randint(1,10,size=(3,7))\n",
    "random_array"
   ]
  },
  {
   "cell_type": "code",
   "execution_count": 36,
   "id": "f1618213-4eb1-44ab-99f3-40c88c33e5a8",
   "metadata": {},
   "outputs": [
    {
     "data": {
      "text/plain": [
       "array([2, 3, 4, 5, 7, 8, 9])"
      ]
     },
     "execution_count": 36,
     "metadata": {},
     "output_type": "execute_result"
    }
   ],
   "source": [
    "# Find the unique numbers in the array you just created\n",
    "unique_num = np.unique(random_array)\n",
    "unique_num"
   ]
  },
  {
   "cell_type": "code",
   "execution_count": 37,
   "id": "0795adf3-0e55-49d3-8db1-f7dfffb70fe8",
   "metadata": {},
   "outputs": [
    {
     "data": {
      "text/plain": [
       "3"
      ]
     },
     "execution_count": 37,
     "metadata": {},
     "output_type": "execute_result"
    }
   ],
   "source": [
    "# Find the 0'th index of the latest array you created\n",
    "random_array[0][0]"
   ]
  },
  {
   "cell_type": "code",
   "execution_count": 38,
   "id": "92c46e9c-353d-455d-bc6c-983ed3ff89fc",
   "metadata": {},
   "outputs": [
    {
     "data": {
      "text/plain": [
       "array([[3, 7, 4, 9, 3, 5, 3],\n",
       "       [7, 5, 9, 7, 2, 4, 9]])"
      ]
     },
     "execution_count": 38,
     "metadata": {},
     "output_type": "execute_result"
    }
   ],
   "source": [
    "# Get the first 2 rows of latest array you created\n",
    "random_array[:2]"
   ]
  },
  {
   "cell_type": "code",
   "execution_count": 39,
   "id": "1a7e20cb-e3ea-4115-a203-21dd250ee6ec",
   "metadata": {},
   "outputs": [
    {
     "data": {
      "text/plain": [
       "array([[3, 7],\n",
       "       [7, 5]])"
      ]
     },
     "execution_count": 39,
     "metadata": {},
     "output_type": "execute_result"
    }
   ],
   "source": [
    "# Get the first 2 values of the first 2 rows of the latest array\n",
    "random_array[:2,:2]"
   ]
  },
  {
   "cell_type": "code",
   "execution_count": 43,
   "id": "5c9f90b0-2dbe-470e-bd6c-cdeb73a80f16",
   "metadata": {},
   "outputs": [
    {
     "data": {
      "text/plain": [
       "array([[9, 8, 6, 8, 7],\n",
       "       [1, 0, 6, 6, 7],\n",
       "       [4, 2, 7, 5, 2]])"
      ]
     },
     "execution_count": 43,
     "metadata": {},
     "output_type": "execute_result"
    }
   ],
   "source": [
    "# Create a random array of numbers between 0 & 10 and an array of ones\n",
    "#both of size (3, 5), save them both to variables\n",
    "random_array = np.random.randint(0,10,size=(3,5))\n",
    "random_array"
   ]
  },
  {
   "cell_type": "code",
   "execution_count": 46,
   "id": "5483412d-c951-4e56-839a-0960f71f0a6e",
   "metadata": {},
   "outputs": [
    {
     "data": {
      "text/plain": [
       "array([[1, 1, 1, 1, 1],\n",
       "       [1, 1, 1, 1, 1],\n",
       "       [1, 1, 1, 1, 1]])"
      ]
     },
     "execution_count": 46,
     "metadata": {},
     "output_type": "execute_result"
    }
   ],
   "source": [
    "ones_array = np.ones((3,5),dtype=int)\n",
    "ones_array"
   ]
  },
  {
   "cell_type": "code",
   "execution_count": 47,
   "id": "05092bc6-8395-4a57-8493-af26ef6e413e",
   "metadata": {},
   "outputs": [
    {
     "data": {
      "text/plain": [
       "array([[10,  9,  7,  9,  8],\n",
       "       [ 2,  1,  7,  7,  8],\n",
       "       [ 5,  3,  8,  6,  3]])"
      ]
     },
     "execution_count": 47,
     "metadata": {},
     "output_type": "execute_result"
    }
   ],
   "source": [
    "# Add the two arrays together\n",
    "sum_array = random_array + ones_array\n",
    "sum_array"
   ]
  },
  {
   "cell_type": "code",
   "execution_count": 48,
   "id": "94582f09-2672-4750-85f1-eae2ff47cd6d",
   "metadata": {},
   "outputs": [],
   "source": [
    "# Create another array of ones of shape (5, 3)\n",
    "ones_array_1 = np.ones((5,3),dtype=int)"
   ]
  },
  {
   "cell_type": "code",
   "execution_count": 54,
   "id": "9a167db7-66c0-47f8-ba5e-8e4425277172",
   "metadata": {},
   "outputs": [
    {
     "ename": "NameError",
     "evalue": "name 'ones_array_1' is not defined",
     "output_type": "error",
     "traceback": [
      "\u001b[1;31m---------------------------------------------------------------------------\u001b[0m",
      "\u001b[1;31mNameError\u001b[0m                                 Traceback (most recent call last)",
      "\u001b[1;32m<ipython-input-54-a39ee4069646>\u001b[0m in \u001b[0;36m<module>\u001b[1;34m\u001b[0m\n\u001b[0;32m      1\u001b[0m \u001b[1;31m# Try add the array of ones and the other most recent array together\u001b[0m\u001b[1;33m\u001b[0m\u001b[1;33m\u001b[0m\u001b[1;33m\u001b[0m\u001b[0m\n\u001b[1;32m----> 2\u001b[1;33m \u001b[0msum_array\u001b[0m \u001b[1;33m+=\u001b[0m \u001b[0mones_array_1\u001b[0m\u001b[1;33m\u001b[0m\u001b[1;33m\u001b[0m\u001b[0m\n\u001b[0m",
      "\u001b[1;31mNameError\u001b[0m: name 'ones_array_1' is not defined"
     ]
    }
   ],
   "source": [
    "# Try add the array of ones and the other most recent array together\n",
    "sum_array += ones_array_1"
   ]
  },
  {
   "cell_type": "markdown",
   "id": "ec229cec-82a8-4dff-9214-e50ed601082d",
   "metadata": {},
   "source": [
    "When you try the last cell, it produces an error. Why do think this is?\n",
    "\n",
    "=> Bcoz sum_array(3,5) and ones_array(5,3) are not compatible acc to broadcast rules that states \n",
    "dimension must be equal or 1 at last.\n",
    "\n",
    "How would you fix it?\n",
    "\n",
    "=> Create array of same dimension "
   ]
  },
  {
   "cell_type": "code",
   "execution_count": 55,
   "id": "f3853cce-0eb5-4f69-8990-6892e9af6ec0",
   "metadata": {},
   "outputs": [
    {
     "data": {
      "text/plain": [
       "array([[1, 1, 1, 1, 1],\n",
       "       [1, 1, 1, 1, 1],\n",
       "       [1, 1, 1, 1, 1]])"
      ]
     },
     "execution_count": 55,
     "metadata": {},
     "output_type": "execute_result"
    }
   ],
   "source": [
    "# Create another array of ones of shape (3, 5)\n",
    "new_ones_array = np.ones((3,5),dtype=int)\n",
    "new_ones_array"
   ]
  },
  {
   "cell_type": "code",
   "execution_count": 67,
   "id": "370a1fdf-fa71-4aa3-88bc-2db50303e29f",
   "metadata": {},
   "outputs": [
    {
     "data": {
      "text/plain": [
       "array([[9, 8, 6, 8, 7],\n",
       "       [1, 0, 6, 6, 7],\n",
       "       [4, 2, 7, 5, 2]])"
      ]
     },
     "execution_count": 67,
     "metadata": {},
     "output_type": "execute_result"
    }
   ],
   "source": [
    "# Subtract the new array of ones from the other most recent array\n",
    "sub_array = sum_array - new_ones_array\n",
    "sub_array"
   ]
  },
  {
   "cell_type": "code",
   "execution_count": 68,
   "id": "54d1f904-7190-4bd9-b5c7-ad3a328731de",
   "metadata": {},
   "outputs": [
    {
     "data": {
      "text/plain": [
       "array([[9, 8, 6, 8, 7],\n",
       "       [1, 0, 6, 6, 7],\n",
       "       [4, 2, 7, 5, 2]])"
      ]
     },
     "execution_count": 68,
     "metadata": {},
     "output_type": "execute_result"
    }
   ],
   "source": [
    "# Multiply the ones array with the latest array\n",
    "mul_array = new_ones_array * sub_array\n",
    "mul_array"
   ]
  },
  {
   "cell_type": "code",
   "execution_count": 71,
   "id": "43f3de14-ee83-4bc2-96bf-4138c0ff0093",
   "metadata": {},
   "outputs": [
    {
     "data": {
      "text/plain": [
       "array([[81, 64, 36, 64, 49],\n",
       "       [ 1,  0, 36, 36, 49],\n",
       "       [16,  4, 49, 25,  4]], dtype=int32)"
      ]
     },
     "execution_count": 71,
     "metadata": {},
     "output_type": "execute_result"
    }
   ],
   "source": [
    "# Take the latest array to the power of 2 using '**'\n",
    "mul_array ** 2"
   ]
  },
  {
   "cell_type": "code",
   "execution_count": 72,
   "id": "9aa8e794-238d-48a2-86a0-d3aa22898d19",
   "metadata": {},
   "outputs": [
    {
     "data": {
      "text/plain": [
       "array([[81, 64, 36, 64, 49],\n",
       "       [ 1,  0, 36, 36, 49],\n",
       "       [16,  4, 49, 25,  4]], dtype=int32)"
      ]
     },
     "execution_count": 72,
     "metadata": {},
     "output_type": "execute_result"
    }
   ],
   "source": [
    "# Do the same thing with np.square()\n",
    "np.square(mul_array)"
   ]
  },
  {
   "cell_type": "code",
   "execution_count": 73,
   "id": "dce1b127-b1c7-45c9-bab9-46f1be33f77c",
   "metadata": {},
   "outputs": [
    {
     "data": {
      "text/plain": [
       "5.2"
      ]
     },
     "execution_count": 73,
     "metadata": {},
     "output_type": "execute_result"
    }
   ],
   "source": [
    "# Find the mean of the latest array using np.mean()\n",
    "np.mean(mul_array)"
   ]
  },
  {
   "cell_type": "code",
   "execution_count": 74,
   "id": "8fe99ab0-7b2c-41d1-bf1c-a576bf19332f",
   "metadata": {},
   "outputs": [
    {
     "data": {
      "text/plain": [
       "9"
      ]
     },
     "execution_count": 74,
     "metadata": {},
     "output_type": "execute_result"
    }
   ],
   "source": [
    "# Find the maximum of the latest array using np.max()\n",
    "np.max(mul_array)"
   ]
  },
  {
   "cell_type": "code",
   "execution_count": 75,
   "id": "0a85fa42-42fa-4a7b-8edf-f3e1f1550934",
   "metadata": {},
   "outputs": [
    {
     "data": {
      "text/plain": [
       "0"
      ]
     },
     "execution_count": 75,
     "metadata": {},
     "output_type": "execute_result"
    }
   ],
   "source": [
    "# Find the minimum of the latest array using np.min()\n",
    "np.min(mul_array)"
   ]
  },
  {
   "cell_type": "code",
   "execution_count": 76,
   "id": "d9038638-970e-40fc-bbb8-8c1a08b76179",
   "metadata": {},
   "outputs": [
    {
     "data": {
      "text/plain": [
       "2.6882460204874605"
      ]
     },
     "execution_count": 76,
     "metadata": {},
     "output_type": "execute_result"
    }
   ],
   "source": [
    "# Find the standard deviation of the latest array\n",
    "np.std(mul_array)"
   ]
  },
  {
   "cell_type": "code",
   "execution_count": 78,
   "id": "434bd680-c478-473a-ba4d-642237495fdf",
   "metadata": {},
   "outputs": [
    {
     "data": {
      "text/plain": [
       "7.2266666666666675"
      ]
     },
     "execution_count": 78,
     "metadata": {},
     "output_type": "execute_result"
    }
   ],
   "source": [
    "# Find the variance of the latest array\n",
    "np.var(mul_array)"
   ]
  },
  {
   "cell_type": "code",
   "execution_count": 79,
   "id": "149a5e98-af59-47ff-8c45-c727ac29d3a8",
   "metadata": {},
   "outputs": [
    {
     "data": {
      "text/plain": [
       "array([[[9],\n",
       "        [8],\n",
       "        [6],\n",
       "        [8],\n",
       "        [7]],\n",
       "\n",
       "       [[1],\n",
       "        [0],\n",
       "        [6],\n",
       "        [6],\n",
       "        [7]],\n",
       "\n",
       "       [[4],\n",
       "        [2],\n",
       "        [7],\n",
       "        [5],\n",
       "        [2]]])"
      ]
     },
     "execution_count": 79,
     "metadata": {},
     "output_type": "execute_result"
    }
   ],
   "source": [
    "# Reshape the latest array to (3, 5, 1)\n",
    "np.reshape(mul_array,(3,5,1))"
   ]
  },
  {
   "cell_type": "code",
   "execution_count": 80,
   "id": "89cd378a-8a2e-4aac-9dfa-daef50aba226",
   "metadata": {},
   "outputs": [
    {
     "data": {
      "text/plain": [
       "array([[9, 1, 4],\n",
       "       [8, 0, 2],\n",
       "       [6, 6, 7],\n",
       "       [8, 6, 5],\n",
       "       [7, 7, 2]])"
      ]
     },
     "execution_count": 80,
     "metadata": {},
     "output_type": "execute_result"
    }
   ],
   "source": [
    "# Transpose the latest array\n",
    "mul_array.T"
   ]
  },
  {
   "cell_type": "markdown",
   "id": "e604cb8b-d17a-4f2b-99b0-14d1078054e7",
   "metadata": {},
   "source": [
    "What does the transpose do?\n",
    "\n",
    "=> switches row and column of array"
   ]
  },
  {
   "cell_type": "code",
   "execution_count": 82,
   "id": "27421656-9d79-4dad-8b63-cb7ae0d92746",
   "metadata": {},
   "outputs": [],
   "source": [
    "# Create two arrays of random integers between 0 to 10\n",
    "# one of size (3, 3) the other of size (3, 2)\n",
    "random_a1 = np.random.randint(0,10,size=(3,3))\n",
    "random_a2 = np.random.randint(0,10,size=(3,2))"
   ]
  },
  {
   "cell_type": "code",
   "execution_count": 83,
   "id": "57f9262a-1e8a-4e28-a273-47fea877c63a",
   "metadata": {},
   "outputs": [
    {
     "data": {
      "text/plain": [
       "array([[ 42,   4],\n",
       "       [ 40,  18],\n",
       "       [162,  93]])"
      ]
     },
     "execution_count": 83,
     "metadata": {},
     "output_type": "execute_result"
    }
   ],
   "source": [
    "# Perform a dot product on the two newest arrays you created\n",
    "np.dot(random_a1,random_a2)"
   ]
  },
  {
   "cell_type": "code",
   "execution_count": 84,
   "id": "43c2a351-5598-4337-b3d8-706848a1be40",
   "metadata": {},
   "outputs": [],
   "source": [
    "# Create two arrays of random integers between 0 to 10\n",
    "# both of size (4, 3)\n",
    "random_a1 = np.random.randint(0,10,size=(4,3))\n",
    "random_a2 = np.random.randint(0,10,size=(4,3))"
   ]
  },
  {
   "cell_type": "code",
   "execution_count": 85,
   "id": "ec64fe25-9362-4911-bbb9-8d3cf4920189",
   "metadata": {},
   "outputs": [
    {
     "ename": "ValueError",
     "evalue": "shapes (4,3) and (4,3) not aligned: 3 (dim 1) != 4 (dim 0)",
     "output_type": "error",
     "traceback": [
      "\u001b[1;31m---------------------------------------------------------------------------\u001b[0m",
      "\u001b[1;31mValueError\u001b[0m                                Traceback (most recent call last)",
      "\u001b[1;32m<ipython-input-85-3d67f57c2a80>\u001b[0m in \u001b[0;36m<module>\u001b[1;34m\u001b[0m\n\u001b[0;32m      1\u001b[0m \u001b[1;31m# Perform a dot product on the two newest arrays you created\u001b[0m\u001b[1;33m\u001b[0m\u001b[1;33m\u001b[0m\u001b[1;33m\u001b[0m\u001b[0m\n\u001b[1;32m----> 2\u001b[1;33m \u001b[0mnp\u001b[0m\u001b[1;33m.\u001b[0m\u001b[0mdot\u001b[0m\u001b[1;33m(\u001b[0m\u001b[0mrandom_a1\u001b[0m\u001b[1;33m,\u001b[0m\u001b[0mrandom_a2\u001b[0m\u001b[1;33m)\u001b[0m\u001b[1;33m\u001b[0m\u001b[1;33m\u001b[0m\u001b[0m\n\u001b[0m",
      "\u001b[1;32m<__array_function__ internals>\u001b[0m in \u001b[0;36mdot\u001b[1;34m(*args, **kwargs)\u001b[0m\n",
      "\u001b[1;31mValueError\u001b[0m: shapes (4,3) and (4,3) not aligned: 3 (dim 1) != 4 (dim 0)"
     ]
    }
   ],
   "source": [
    "# Perform a dot product on the two newest arrays you created\n",
    "np.dot(random_a1,random_a2)"
   ]
  },
  {
   "cell_type": "markdown",
   "id": "f08d6031-8d60-4eec-842a-d0f236d5e95b",
   "metadata": {},
   "source": [
    "It doesn't work. How would you fix it?\n",
    "\n",
    "=> Taking transpose of one of them"
   ]
  },
  {
   "cell_type": "code",
   "execution_count": 88,
   "id": "afc85263-1e3f-48b5-815a-acbae0e5912d",
   "metadata": {},
   "outputs": [
    {
     "data": {
      "text/plain": [
       "array([[ 39,  77,  18,  60],\n",
       "       [ 63, 114,  36, 105],\n",
       "       [ 49, 106,  36,  79],\n",
       "       [ 73, 127,   6, 104]])"
      ]
     },
     "execution_count": 88,
     "metadata": {},
     "output_type": "execute_result"
    }
   ],
   "source": [
    "# Take the latest two arrays, perform a transpose on one of them and then perform\n",
    "# a dot product on them both\n",
    "np.dot(random_a1,random_a2.T)"
   ]
  },
  {
   "cell_type": "code",
   "execution_count": 109,
   "id": "c795773f-c9fd-42e4-a1dd-78c309cbbd35",
   "metadata": {},
   "outputs": [
    {
     "data": {
      "text/plain": [
       "(array([[7, 7, 1],\n",
       "        [5, 6, 1],\n",
       "        [9, 1, 9],\n",
       "        [0, 7, 0]]),\n",
       " array([[8, 5, 6],\n",
       "        [9, 6, 9],\n",
       "        [2, 1, 8],\n",
       "        [7, 9, 6]]))"
      ]
     },
     "execution_count": 109,
     "metadata": {},
     "output_type": "execute_result"
    }
   ],
   "source": [
    "# Create two arrays of random integers between 0 & 10 of the same shape\n",
    "# and save them to variables\n",
    "arr1 = np.random.randint(0,10,size=(4,3))\n",
    "arr2 = np.random.randint(0,10,size=(4,3))\n",
    "arr1, arr2"
   ]
  },
  {
   "cell_type": "code",
   "execution_count": 110,
   "id": "201b6133-702c-4f90-a7a0-efdddd2e4767",
   "metadata": {},
   "outputs": [
    {
     "data": {
      "text/plain": [
       "array([[False,  True, False],\n",
       "       [False, False, False],\n",
       "       [ True, False,  True],\n",
       "       [False, False, False]])"
      ]
     },
     "execution_count": 110,
     "metadata": {},
     "output_type": "execute_result"
    }
   ],
   "source": [
    "# Compare the two arrays with '>'\n",
    "arr1 > arr2"
   ]
  },
  {
   "cell_type": "markdown",
   "id": "690d97e7-6033-4023-8c8b-be7d3c866d7d",
   "metadata": {},
   "source": [
    "What happens when you compare the arrays with `>`?\n",
    "\n",
    "=> performs element wise comparison"
   ]
  },
  {
   "cell_type": "code",
   "execution_count": 111,
   "id": "ff81b013-5e14-4f0a-a73d-b0021f9c8ccb",
   "metadata": {},
   "outputs": [
    {
     "data": {
      "text/plain": [
       "array([[False,  True, False],\n",
       "       [False,  True, False],\n",
       "       [ True,  True,  True],\n",
       "       [False, False, False]])"
      ]
     },
     "execution_count": 111,
     "metadata": {},
     "output_type": "execute_result"
    }
   ],
   "source": [
    "# Compare the two arrays with '>='\n",
    "arr1 >= arr2"
   ]
  },
  {
   "cell_type": "code",
   "execution_count": 112,
   "id": "b4b4e4b8-f264-45c8-b504-8721c9d5a207",
   "metadata": {},
   "outputs": [
    {
     "data": {
      "text/plain": [
       "array([9, 9])"
      ]
     },
     "execution_count": 112,
     "metadata": {},
     "output_type": "execute_result"
    }
   ],
   "source": [
    "# Find which elements of the first array are greater than 7\n",
    "greater = arr1 > 7\n",
    "arr1[greater]"
   ]
  },
  {
   "cell_type": "code",
   "execution_count": 114,
   "id": "00fc4ff4-75f2-4ea2-b908-aecb1d00072e",
   "metadata": {},
   "outputs": [
    {
     "data": {
      "text/plain": [
       "array([6, 1])"
      ]
     },
     "execution_count": 114,
     "metadata": {},
     "output_type": "execute_result"
    }
   ],
   "source": [
    "# Which parts of each array are equal? (try using '==')\n",
    "equal = arr1 == arr2\n",
    "arr1[equal]"
   ]
  },
  {
   "cell_type": "code",
   "execution_count": 117,
   "id": "27dbeee5-c3a9-4100-8938-c488b3df9da1",
   "metadata": {},
   "outputs": [
    {
     "data": {
      "text/plain": [
       "array([[1, 7, 7],\n",
       "       [1, 5, 6],\n",
       "       [1, 9, 9],\n",
       "       [0, 0, 7]])"
      ]
     },
     "execution_count": 117,
     "metadata": {},
     "output_type": "execute_result"
    }
   ],
   "source": [
    "# Sort one of the arrays you just created in ascending order\n",
    "np.sort(arr1)"
   ]
  },
  {
   "cell_type": "code",
   "execution_count": 118,
   "id": "e3c8514f-8d59-4243-8c7a-3cdcb6dfcb7e",
   "metadata": {},
   "outputs": [
    {
     "data": {
      "text/plain": [
       "array([[2, 0, 1],\n",
       "       [2, 0, 1],\n",
       "       [1, 0, 2],\n",
       "       [0, 2, 1]], dtype=int64)"
      ]
     },
     "execution_count": 118,
     "metadata": {},
     "output_type": "execute_result"
    }
   ],
   "source": [
    "# Sort the indexes of one of the arrays you just created\n",
    "np.argsort(arr1,axis=1)"
   ]
  },
  {
   "cell_type": "code",
   "execution_count": 123,
   "id": "59e27ec4-66d5-4c39-a693-970c1880ab37",
   "metadata": {},
   "outputs": [
    {
     "data": {
      "text/plain": [
       "6"
      ]
     },
     "execution_count": 123,
     "metadata": {},
     "output_type": "execute_result"
    }
   ],
   "source": [
    "# Find the index with the maximum value in one of the arrays you've created\n",
    "np.argmax(arr1)"
   ]
  },
  {
   "cell_type": "code",
   "execution_count": 124,
   "id": "ec44cb06-5c66-4e5c-8c8b-711446fe50bd",
   "metadata": {},
   "outputs": [
    {
     "data": {
      "text/plain": [
       "9"
      ]
     },
     "execution_count": 124,
     "metadata": {},
     "output_type": "execute_result"
    }
   ],
   "source": [
    "# Find the index with the minimum value in one of the arrays you've created\n",
    "np.argmin(arr1)"
   ]
  },
  {
   "cell_type": "code",
   "execution_count": 122,
   "id": "91001f65-1ee4-411e-93b8-6473f99d95c0",
   "metadata": {},
   "outputs": [
    {
     "data": {
      "text/plain": [
       "array([0, 1, 0, 1], dtype=int64)"
      ]
     },
     "execution_count": 122,
     "metadata": {},
     "output_type": "execute_result"
    }
   ],
   "source": [
    "# Find the indexes with the maximum values down the 1st axis (axis=1)\n",
    "# of one of the arrays you created\n",
    "np.argmax(arr1, axis=1)"
   ]
  },
  {
   "cell_type": "code",
   "execution_count": 125,
   "id": "5c4bca05-de98-4ee5-8217-16af1d558af5",
   "metadata": {},
   "outputs": [
    {
     "data": {
      "text/plain": [
       "array([3, 2, 3], dtype=int64)"
      ]
     },
     "execution_count": 125,
     "metadata": {},
     "output_type": "execute_result"
    }
   ],
   "source": [
    "# Find the indexes with the minimum values across the 0th axis (axis=0)\n",
    "# of one of the arrays you created\n",
    "np.argmin(arr1,axis=0)"
   ]
  },
  {
   "cell_type": "code",
   "execution_count": 127,
   "id": "e9788f12-6f0a-4272-bcf4-fff6790eb21b",
   "metadata": {},
   "outputs": [
    {
     "data": {
      "text/plain": [
       "array([-0.03963614, -0.53466274, -1.7884965 ,  0.35730454, -0.41453181,\n",
       "        0.08019871, -0.89312027, -0.33481725,  1.56038014,  0.128551  ])"
      ]
     },
     "execution_count": 127,
     "metadata": {},
     "output_type": "execute_result"
    }
   ],
   "source": [
    "# Create an array of normally distributed random numbers\n",
    "np.random.randn(10)"
   ]
  },
  {
   "cell_type": "code",
   "execution_count": 128,
   "id": "69cc7fb0-df82-4d87-8e1f-a47bf81bfd85",
   "metadata": {},
   "outputs": [
    {
     "data": {
      "text/plain": [
       "array([  1.,  12.,  23.,  34.,  45.,  56.,  67.,  78.,  89., 100.])"
      ]
     },
     "execution_count": 128,
     "metadata": {},
     "output_type": "execute_result"
    }
   ],
   "source": [
    "# Create an array with 10 evenly spaced numbers between 1 and 100\n",
    "np.linspace(1, 100, 10)"
   ]
  },
  {
   "cell_type": "code",
   "execution_count": null,
   "id": "ff71b62f-507a-4f7f-8dc0-d4176faebc03",
   "metadata": {},
   "outputs": [],
   "source": []
  }
 ],
 "metadata": {
  "kernelspec": {
   "display_name": "Python 3",
   "language": "python",
   "name": "python3"
  },
  "language_info": {
   "codemirror_mode": {
    "name": "ipython",
    "version": 3
   },
   "file_extension": ".py",
   "mimetype": "text/x-python",
   "name": "python",
   "nbconvert_exporter": "python",
   "pygments_lexer": "ipython3",
   "version": "3.8.8"
  }
 },
 "nbformat": 4,
 "nbformat_minor": 5
}
